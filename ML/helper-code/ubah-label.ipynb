{
 "cells": [
  {
   "cell_type": "code",
   "execution_count": 4,
   "id": "30de0105",
   "metadata": {},
   "outputs": [],
   "source": [
    "import os\n",
    "x = [file for file in os.listdir('dataset/Batak') if '.xml' in file]"
   ]
  },
  {
   "cell_type": "code",
   "execution_count": 5,
   "id": "81c2bd58",
   "metadata": {},
   "outputs": [
    {
     "name": "stdout",
     "output_type": "stream",
     "text": [
      "['AmpeAmpeBatak0.xml', 'AmpeAmpeBatak1.xml', 'AmpeAmpeBatak13.xml', 'AmpeAmpeBatak14.xml', 'AmpeAmpeBatak15.xml', 'AmpeAmpeBatak2.xml', 'AmpeAmpeBatak22.xml', 'AmpeAmpeBatak3.xml', 'AmpeAmpeBatak4.xml', 'AmpeAmpeBatak6.xml', 'AmpeAmpeBatak7.xml', 'AmpeAmpeBatak9.xml', 'bolonbatak0.xml', 'bolonbatak1.xml', 'bolonbatak10.xml', 'bolonbatak11.xml', 'bolonbatak13.xml', 'bolonbatak14.xml', 'bolonbatak17.xml', 'bolonbatak19.xml', 'bolonbatak21.xml', 'bolonbatak23.xml', 'bolonbatak24.xml', 'bolonbatak25.xml', 'bolonbatak26.xml', 'bolonbatak27.xml', 'bolonbatak28.xml', 'bolonbatak29.xml', 'bolonbatak3.xml', 'bolonbatak30.xml', 'bolonbatak31.xml', 'bolonbatak32.xml', 'bolonbatak33.xml', 'bolonbatak34.xml', 'bolonbatak36.xml', 'bolonbatak37.xml', 'bolonbatak39.xml', 'bolonbatak4.xml', 'bolonbatak40.xml', 'bolonbatak42.xml', 'bolonbatak44.xml', 'bolonbatak46.xml', 'bolonbatak48.xml', 'bolonbatak5.xml', 'bolonbatak52.xml', 'bolonbatak53.xml', 'bolonbatak54.xml', 'bolonbatak55.xml', 'bolonbatak58.xml', 'bolonbatak59.xml', 'bolonbatak6.xml', 'bolonbatak61.xml', 'bolonbatak62.xml', 'bolonbatak63.xml', 'bolonbatak66.xml', 'bolonbatak67.xml', 'bolonbatak7.xml', 'bolonbatak76.xml', 'bolonbatak77.xml', 'bolonbatak79.xml', 'bolonbatak8.xml', 'bolonbatak80.xml', 'bolonbatak83.xml', 'bolonbatak84.xml', 'bolonbatak85.xml', 'bolonbatak86.xml', 'bolonbatak87.xml', 'bolonbatak88.xml', 'bolonbatak9.xml', 'bolonbatak91.xml', 'bolonbatak92.xml', 'bolonbatak93.xml', 'bolonbatak95.xml', 'TaliTaliBatak79.xml', 'TaliTaliBatak80.xml', 'TaliTaliBatak81.xml', 'TaliTaliBatak82.xml', 'TaliTaliBatak83.xml', 'TaliTaliBatak84.xml', 'TaliTaliBatak88.xml', 'TaliTaliBatak92.xml', 'TaliTaliBatak93.xml', 'TaliTaliBatak96.xml', 'TaliTaliBatak97.xml', 'TaliTaliBatak98.xml', 'TaliTaliBatak99.xml']\n"
     ]
    }
   ],
   "source": [
    "print(x)"
   ]
  },
  {
   "cell_type": "code",
   "execution_count": 2,
   "id": "45ed33aa",
   "metadata": {},
   "outputs": [],
   "source": [
    "#old = ['Tali-Tali', 'Hoba-Hoba', 'Singkot', 'Bolon', 'Gondang', 'Piso Halasan', 'Ampe-Ampe', 'Haen', 'Bulang-Bulang', 'Sortali']"
   ]
  },
  {
   "cell_type": "code",
   "execution_count": 6,
   "id": "532249c8",
   "metadata": {},
   "outputs": [],
   "source": [
    "old = ['bulang_bulang']"
   ]
  },
  {
   "cell_type": "code",
   "execution_count": 3,
   "id": "620b55ff",
   "metadata": {},
   "outputs": [],
   "source": [
    "#new = ['tali_tali','hoba_hoba','singkot','bolon','gondang','piso_halasan', 'ampe_ampe','haen','bulang_bulang','sortali']"
   ]
  },
  {
   "cell_type": "code",
   "execution_count": 7,
   "id": "598da570",
   "metadata": {},
   "outputs": [],
   "source": [
    "new = ['bulang']"
   ]
  },
  {
   "cell_type": "code",
   "execution_count": 14,
   "id": "00f8b534",
   "metadata": {},
   "outputs": [],
   "source": [
    "import re"
   ]
  },
  {
   "cell_type": "code",
   "execution_count": null,
   "id": "65cfccd1",
   "metadata": {},
   "outputs": [],
   "source": []
  },
  {
   "cell_type": "code",
   "execution_count": 8,
   "id": "ea0dd38e",
   "metadata": {},
   "outputs": [],
   "source": [
    " for file in x:\n",
    "    with open('dataset/Batak/' + file, 'r')as f:\n",
    "        lines = f.readlines()\n",
    "        for line in lines:\n",
    "            if 'name' in line:\n",
    "                for word in old:\n",
    "                    if word in line:\n",
    "                        newword = new[old.index(word)]\n",
    "                        lines[lines.index(line)] = '\\t\\t<name>{}</name>\\n'.format(newword)\n",
    "    with open('dataset/Batak/' + file, 'w')as f:\n",
    "        f.writelines(lines)"
   ]
  },
  {
   "cell_type": "code",
   "execution_count": 9,
   "id": "0188a5c5",
   "metadata": {},
   "outputs": [
    {
     "name": "stdout",
     "output_type": "stream",
     "text": [
      "['<annotation>\\n', '\\t<folder>Batak</folder>\\n', '\\t<filename>TaliTaliBatak99.jpeg</filename>\\n', '\\t<path>D:\\\\bangkit\\\\dataset\\\\Batak\\\\TaliTaliBatak99.jpeg</path>\\n', '\\t<source>\\n', '\\t\\t<database>Unknown</database>\\n', '\\t</source>\\n', '\\t<size>\\n', '\\t\\t<width>428</width>\\n', '\\t\\t<height>321</height>\\n', '\\t\\t<depth>3</depth>\\n', '\\t</size>\\n', '\\t<segmented>0</segmented>\\n', '\\t<object>\\n', '\\t\\t<name>sortali</name>\\n', '\\t\\t<pose>Unspecified</pose>\\n', '\\t\\t<truncated>0</truncated>\\n', '\\t\\t<difficult>0</difficult>\\n', '\\t\\t<bndbox>\\n', '\\t\\t\\t<xmin>134</xmin>\\n', '\\t\\t\\t<ymin>71</ymin>\\n', '\\t\\t\\t<xmax>197</xmax>\\n', '\\t\\t\\t<ymax>91</ymax>\\n', '\\t\\t</bndbox>\\n', '\\t</object>\\n', '\\t<object>\\n', '\\t\\t<name>sortali</name>\\n', '\\t\\t<pose>Unspecified</pose>\\n', '\\t\\t<truncated>0</truncated>\\n', '\\t\\t<difficult>0</difficult>\\n', '\\t\\t<bndbox>\\n', '\\t\\t\\t<xmin>228</xmin>\\n', '\\t\\t\\t<ymin>67</ymin>\\n', '\\t\\t\\t<xmax>289</xmax>\\n', '\\t\\t\\t<ymax>86</ymax>\\n', '\\t\\t</bndbox>\\n', '\\t</object>\\n', '</annotation>\\n']\n"
     ]
    }
   ],
   "source": [
    "print(lines)"
   ]
  },
  {
   "cell_type": "code",
   "execution_count": null,
   "id": "2ef6df27",
   "metadata": {},
   "outputs": [],
   "source": []
  }
 ],
 "metadata": {
  "kernelspec": {
   "display_name": "Python 3 (ipykernel)",
   "language": "python",
   "name": "python3"
  },
  "language_info": {
   "codemirror_mode": {
    "name": "ipython",
    "version": 3
   },
   "file_extension": ".py",
   "mimetype": "text/x-python",
   "name": "python",
   "nbconvert_exporter": "python",
   "pygments_lexer": "ipython3",
   "version": "3.9.7"
  }
 },
 "nbformat": 4,
 "nbformat_minor": 5
}
