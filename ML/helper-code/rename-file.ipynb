{
 "cells": [
  {
   "cell_type": "code",
   "execution_count": 1,
   "id": "f2becc75",
   "metadata": {},
   "outputs": [],
   "source": [
    "import os"
   ]
  },
  {
   "cell_type": "code",
   "execution_count": 2,
   "id": "79a95d16",
   "metadata": {},
   "outputs": [],
   "source": [
    "folder_path = '../dataset/tgm'"
   ]
  },
  {
   "cell_type": "code",
   "execution_count": 41,
   "id": "76588e5d",
   "metadata": {},
   "outputs": [],
   "source": [
    "files = os.listdir(folder_path)"
   ]
  },
  {
   "cell_type": "code",
   "execution_count": 37,
   "id": "2e662861",
   "metadata": {},
   "outputs": [],
   "source": [
    "import re\n",
    "pattern = r'^([\\w]+ \\(\\d+\\))(\\.[a-z]+)'\n"
   ]
  },
  {
   "cell_type": "code",
   "execution_count": 39,
   "id": "0fe46a0f",
   "metadata": {},
   "outputs": [
    {
     "name": "stdout",
     "output_type": "stream",
     "text": [
      ".png\n"
     ]
    }
   ],
   "source": [
    "result = re.search(pattern, 'gethak (1).png')[2]\n",
    "print(result)"
   ]
  },
  {
   "cell_type": "code",
   "execution_count": 42,
   "id": "b6a40d15",
   "metadata": {},
   "outputs": [],
   "source": [
    "count = 1\n",
    "for file in files:\n",
    "    extension = re.search(pattern, file)[2]\n",
    "    file_path = os.path.join(folder_path, file)\n",
    "    newfile_path = os.path.join(folder_path, 'gethak{}{}'.format(count, extension))\n",
    "    os.rename(file_path, newfile_path)\n",
    "    count += 1"
   ]
  },
  {
   "cell_type": "code",
   "execution_count": null,
   "id": "ee16b3fb",
   "metadata": {},
   "outputs": [],
   "source": []
  }
 ],
 "metadata": {
  "kernelspec": {
   "display_name": "Python 3 (ipykernel)",
   "language": "python",
   "name": "python3"
  },
  "language_info": {
   "codemirror_mode": {
    "name": "ipython",
    "version": 3
   },
   "file_extension": ".py",
   "mimetype": "text/x-python",
   "name": "python",
   "nbconvert_exporter": "python",
   "pygments_lexer": "ipython3",
   "version": "3.9.7"
  }
 },
 "nbformat": 4,
 "nbformat_minor": 5
}
